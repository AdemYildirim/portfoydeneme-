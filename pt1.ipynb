{
 "cells": [
  {
   "cell_type": "markdown",
   "id": "cc925de5-65e8-4195-9290-8f2f804c864c",
   "metadata": {},
   "source": [
    "## PORTFÖY TEORİSİ DENEME II\n",
    "Elektrik fiyat değerleri EPİAŞ'ın şeffaflık platformundan API formatında elde edildi.  Bu çalışmanın temel amacı uygun bir portföy oluşturmaktır. Hem üretim hemde tüketim bacağı için optimum portföyün oluşması hedeflenmektedir. Burada kullanılan yöntem ilgili bölümde açıklanacaktır."
   ]
  },
  {
   "cell_type": "markdown",
   "id": "2fa409cd-06ba-4e32-8554-636abe36fa6b",
   "metadata": {},
   "source": [
    "# 1.1 Verilerin Elde Edilmesi\n",
    "Bu çalışma farklı üretim tiplerinde uygulamada olabilecek fiyatlar ile (uzman görüşü ile makul seviyede olacak şekilde) hedef bir portföyün oluşturmasını hedeflemektedir. Portföy dizayn teoriye göre formüller elde edilmiş ve bu formüller denenmiştir. \n",
    "+ İlk olarakkütüphaneler yüklendi.\n",
    "+ request için pip install çalıştı.\n",
    "+ Verinin elde edilmesi için bir çok metot denendiğinden bazı kütüphaneler gereksiz kalmış olabilir."
   ]
  },
  {
   "cell_type": "markdown",
   "id": "2eba51a0-c631-4058-8992-8c8ec89473cc",
   "metadata": {},
   "source": [
    "+ Belirtilen tarihe göre PTF değerleri TRY, USD ve EUR olarak elde edildi.\n",
    "+ Veri saatliktir ve ortalama değerleri kullanılacaktır.\n",
    "+ Verilern JSON formatında elde edildikten sonra dataframe olarak depolanmıştır.\n",
    "+ İlk demeneme olduğu için tarih kısa tutuldu. "
   ]
  },
  {
   "cell_type": "code",
   "execution_count": 364,
   "id": "9db4b250-0bc4-4114-861f-76ec3c976b2f",
   "metadata": {},
   "outputs": [],
   "source": [
    "import pandas as pd\n",
    "import requests as rq\n",
    "import json\n",
    "import numpy as np\n",
    "import matplotlib.pyplot as plt\n",
    "import math\n",
    "import seaborn as sns\n",
    "from matplotlib import pyplot\n",
    "import statsmodels.api as sm\n",
    "from scipy.fft import fft, fftfreq\n",
    "from retrying import retry\n",
    "import requests "
   ]
  },
  {
   "cell_type": "code",
   "execution_count": 365,
   "id": "1ccef93e-056f-4370-a073-32a9e4e9f982",
   "metadata": {},
   "outputs": [],
   "source": [
    "url = \"https://giris.epias.com.tr\"\n",
    " \n",
    "headertgt = {\"Content-Type\" : \"application/x-www-form-urlencoded\",\n",
    "             \"Accept\" : \"text/plain\"}\n",
    " \n",
    "paramtgt = {\"username\" : \"ademyildirimmakine@gmail.com\",\n",
    "            \"password\" : \"Ay.12345\"}\n",
    " \n",
    "TGT_response = requests.post(url+\"/cas/v1/tickets\", headers = headertgt, params = paramtgt)"
   ]
  },
  {
   "cell_type": "code",
   "execution_count": 366,
   "id": "73c0955f-7d56-4718-9077-6da1e3c0777b",
   "metadata": {},
   "outputs": [],
   "source": [
    "date1 = \"2025-02-01T00:00:00+03:00\"\n",
    "date2 = \"2025-02-28T00:00:00+03:00\" #sontarihin tamamını alıyor\n",
    "base_path = \"https://seffaflik.epias.com.tr/electricity-service\"\n",
    "header={\"Content-Type\" : \"application/json\",\n",
    "        \"Accept\" : \"application/json\",\n",
    "        \"Accept-Language\" :\"en\",\n",
    "        \"TGT\" : TGT_response.text}"
   ]
  },
  {
   "cell_type": "markdown",
   "id": "31056979-0960-45e5-95ec-aca74ba6ab7c",
   "metadata": {},
   "source": [
    "Toplam ihtiyaç C bu örnekte 120 olarak seçildi. \n",
    "\n",
    "4 Farklı fiyatta ürün seçildi.\n",
    "+ Doğrudan PTF\n",
    "+ Sabit EUR => 67 EUR/MWh\n",
    "+ Sabit USD => 70 EUR/MWh\n",
    "+ Sabit TRY => 2400-2600 TL/MWh"
   ]
  },
  {
   "cell_type": "code",
   "execution_count": 367,
   "id": "ea041fc7-5e7a-45f1-abf3-bc34451893b8",
   "metadata": {},
   "outputs": [],
   "source": [
    "ptfparam1  = json.dumps({\"startDate\": date1, \"endDate\": date2,\"page\": {\"number\": \"\", \"size\": \"\", \"total\": \"\", \"sort\": {\"field\": \"date\",  \"direction\": \"ASC\"}}})\n",
    "ptf1  = rq.request(\"POST\", base_path+\"/v1/markets/dam/data/mcp\",  data = ptfparam1, headers=header)\n",
    "ptf1  = ptf1.json()\n",
    "ptf   = pd.DataFrame(ptf1[\"items\"])"
   ]
  },
  {
   "cell_type": "code",
   "execution_count": 368,
   "id": "ab5eb456-498e-49de-8425-edb186a16e68",
   "metadata": {},
   "outputs": [],
   "source": [
    "ptf[\"USDTRY\"] = ptf[\"price\"]/ptf[\"priceUsd\"]\n",
    "ptf[\"EURTRY\"] = ptf[\"price\"]/ptf[\"priceEur\"]\n",
    "ptf[\"S1\"] = ptf[\"EURTRY\"] * 80\n",
    "ptf[\"S2\"] = ptf[\"USDTRY\"] * 81\n",
    "ptf[\"S3\"] = ptf[\"price\"]*1.2\n",
    "ptf[\"hour\"] = ptf[\"hour\"].str[:2].astype('float')\n",
    "ptf['S4'] = ptf['hour'].apply(lambda x: 3500  if x >=12  else 2500 )\n",
    "#ptf.describe()"
   ]
  },
  {
   "cell_type": "code",
   "execution_count": 369,
   "id": "494b160c-267d-4d06-b4c3-7bb3c9d8e9a0",
   "metadata": {},
   "outputs": [
    {
     "data": {
      "text/html": [
       "<div>\n",
       "<style scoped>\n",
       "    .dataframe tbody tr th:only-of-type {\n",
       "        vertical-align: middle;\n",
       "    }\n",
       "\n",
       "    .dataframe tbody tr th {\n",
       "        vertical-align: top;\n",
       "    }\n",
       "\n",
       "    .dataframe thead th {\n",
       "        text-align: right;\n",
       "    }\n",
       "</style>\n",
       "<table border=\"1\" class=\"dataframe\">\n",
       "  <thead>\n",
       "    <tr style=\"text-align: right;\">\n",
       "      <th></th>\n",
       "      <th>S1</th>\n",
       "      <th>S2</th>\n",
       "      <th>S3</th>\n",
       "      <th>S4</th>\n",
       "    </tr>\n",
       "  </thead>\n",
       "  <tbody>\n",
       "    <tr>\n",
       "      <th>count</th>\n",
       "      <td>672.000000</td>\n",
       "      <td>672.000000</td>\n",
       "      <td>672.000000</td>\n",
       "      <td>672.00000</td>\n",
       "    </tr>\n",
       "    <tr>\n",
       "      <th>mean</th>\n",
       "      <td>3003.590376</td>\n",
       "      <td>2920.044927</td>\n",
       "      <td>2973.935643</td>\n",
       "      <td>3000.00000</td>\n",
       "    </tr>\n",
       "    <tr>\n",
       "      <th>std</th>\n",
       "      <td>32.453059</td>\n",
       "      <td>16.611153</td>\n",
       "      <td>499.653127</td>\n",
       "      <td>500.37244</td>\n",
       "    </tr>\n",
       "    <tr>\n",
       "      <th>min</th>\n",
       "      <td>2940.821831</td>\n",
       "      <td>2893.239847</td>\n",
       "      <td>900.000000</td>\n",
       "      <td>2500.00000</td>\n",
       "    </tr>\n",
       "    <tr>\n",
       "      <th>25%</th>\n",
       "      <td>2972.335709</td>\n",
       "      <td>2908.200756</td>\n",
       "      <td>2639.988000</td>\n",
       "      <td>2500.00000</td>\n",
       "    </tr>\n",
       "    <tr>\n",
       "      <th>50%</th>\n",
       "      <td>2996.916191</td>\n",
       "      <td>2918.930196</td>\n",
       "      <td>3000.012000</td>\n",
       "      <td>3000.00000</td>\n",
       "    </tr>\n",
       "    <tr>\n",
       "      <th>75%</th>\n",
       "      <td>3030.133111</td>\n",
       "      <td>2934.752560</td>\n",
       "      <td>3418.347000</td>\n",
       "      <td>3500.00000</td>\n",
       "    </tr>\n",
       "    <tr>\n",
       "      <th>max</th>\n",
       "      <td>3054.303455</td>\n",
       "      <td>2947.613159</td>\n",
       "      <td>3600.000000</td>\n",
       "      <td>3500.00000</td>\n",
       "    </tr>\n",
       "  </tbody>\n",
       "</table>\n",
       "</div>"
      ],
      "text/plain": [
       "                S1           S2           S3          S4\n",
       "count   672.000000   672.000000   672.000000   672.00000\n",
       "mean   3003.590376  2920.044927  2973.935643  3000.00000\n",
       "std      32.453059    16.611153   499.653127   500.37244\n",
       "min    2940.821831  2893.239847   900.000000  2500.00000\n",
       "25%    2972.335709  2908.200756  2639.988000  2500.00000\n",
       "50%    2996.916191  2918.930196  3000.012000  3000.00000\n",
       "75%    3030.133111  2934.752560  3418.347000  3500.00000\n",
       "max    3054.303455  2947.613159  3600.000000  3500.00000"
      ]
     },
     "execution_count": 369,
     "metadata": {},
     "output_type": "execute_result"
    }
   ],
   "source": [
    "ptf[\"S4\"].var()\n",
    "satıcılar = ptf[[\"S1\",\"S2\",\"S3\",\"S4\"]]\n",
    "P   = pd.DataFrame([ptf[\"S1\"].mean(),ptf[\"S2\"].mean(),ptf[\"S3\"].mean(),ptf[\"S4\"].mean()], columns=['Ave Price'])\n",
    "BV  = pd.DataFrame([1,1,1,1], columns=['Birim Vektör'])\n",
    "cov = satıcılar.cov()\n",
    "C   = 5000\n",
    "a   = 100\n",
    "satıcılar.describe()\n",
    "#satıcılar.plot()"
   ]
  },
  {
   "cell_type": "code",
   "execution_count": 370,
   "id": "322713e9-cc13-4a85-b978-f6eb35d16d5f",
   "metadata": {},
   "outputs": [],
   "source": [
    "T_P    = P.values.T\n",
    "T_BV   = BV.values.T\n",
    "in_cov = np.linalg.inv(cov.values)\n",
    "#print(\"P Transpose\" , T_P.shape)\n",
    "#print(\"T_BV Transpose\" , T_BV.shape)\n"
   ]
  },
  {
   "cell_type": "code",
   "execution_count": 371,
   "id": "41c0cc66-e39e-484d-9be7-8c0c4eba0522",
   "metadata": {},
   "outputs": [
    {
     "data": {
      "text/plain": [
       "array([[-7.92342839e-01],\n",
       "       [ 2.00473197e+00],\n",
       "       [ 1.45067162e-03],\n",
       "       [ 5.13254308e-04]])"
      ]
     },
     "execution_count": 371,
     "metadata": {},
     "output_type": "execute_result"
    }
   ],
   "source": [
    "u = ((np.matmul(np.matmul(T_BV, in_cov),P.values)*a/(2*C)) + 1 ) / (np.matmul(np.matmul(T_BV, in_cov),BV.values))\n",
    "k = ((u*BV.values) - ( P.values*(1/(2*C))))\n",
    "λ = np.matmul(in_cov, k)\n",
    "λ"
   ]
  },
  {
   "cell_type": "code",
   "execution_count": 372,
   "id": "c58ccb4f-9acf-45a1-9cf7-5f8d945bccfb",
   "metadata": {},
   "outputs": [
    {
     "name": "stdout",
     "output_type": "stream",
     "text": [
      "Beklenen Birim Değer [[3479.88805143]]\n",
      "Beklenen Birim Değer 2973.935642857143\n"
     ]
    }
   ],
   "source": [
    "E1 = np.matmul(λ.T, P)*a*C\n",
    "E2 = C * ptf[\"S3\"].mean()\n",
    "Var1 =(C^2) * (np.matmul(np.matmul(λ.T, in_cov),λ))\n",
    "print(\"Beklenen Birim Değer\" , E1.values/C/a)\n",
    "print(\"Beklenen Birim Değer\" , E2/C)"
   ]
  },
  {
   "cell_type": "markdown",
   "id": "2787b84e-d012-4930-a3ff-0cebf2755d87",
   "metadata": {},
   "source": [
    "## 1.2 Portföy Tasarımı\n",
    "Normal portföy teorisinde (hisse senedi yatırımı gibi) amaç:\n",
    "+ Beklenen kazancı maksimum yapmak ve\n",
    "+ Riski (varyansı) minimum yapmak.\n",
    "\n",
    "Ancak burada amaç biraz farklı:\n",
    "+ Hem ortalama fiyatı (beklenen maliyet) düşük olsun birde\n",
    "+ Hem de fiyat oynaklığı (risk) düşük olsun.\n",
    "\n",
    "Bunu sağlamak için minimize edilen amaç fonksiyonu aşağıdaki gibidir\n",
    "amaç fonksiyonu => a⋅E(X/λ)+Var(X/λ)\n",
    "Burada:\n",
    "+ E(X): Expected Value ya da ortalama maliyettir.\n",
    "+ Var(X): X'in varyansı başka bir deyişle X'in riskidir.\n",
    "+ a: senin ortalama fiyata verdiğin önem (ne kadar “ucuzluk” peşindesin).\n",
    "\n",
    "Burada amaç fonksiyonu detaylandırılırsa ki aşağıdaki formülde 2 farklı satıcı için bu fonksşyon yazılmıştır. Satıcı S1 ve p1 fiyatında, satıcı S2 ve p2 fiyatında. Toplam maliyeti hem ortalama fiyat hem risk açısından minimize etmek istiyoruz. Fonksiyon aşağıdaki gibidir.\n",
    "\n",
    "+ F(λ)= aCλp1 + aC(1−λ)p2 + (C^2)(λ^2)Var(p1)+(C^2)((1−λ)^2)Var(p2)+2(C^2)λ(1−λ)Cov(p1,p2)\n",
    "\n",
    "Burada:\n",
    "+ İlk iki terim → beklenen maliyet (a⋅E(X))\n",
    "+ Diğer üç terim → varyans (risk) 'dır.\n",
    "Buradaki F fonksiyonunun λ'ya göre 1. türevini alıp 0'a eşitlediğimizde optimum λ'yı bulmuş olacağız. "
   ]
  },
  {
   "cell_type": "markdown",
   "id": "28560f7b-621c-4137-b27d-1413f9a700d7",
   "metadata": {},
   "source": [
    "Türevivi aldığımızda aşağıdaki eşitliği elde ediyoruz.\n",
    "\n",
    "+ dF/dλ =a(p1−p2)+2CλVar(p1)−2C(1−λ)Var(p2)+2C(1−2λ)Cov(p1,p2)\n",
    "\n",
    "Birinci türev 0'a eşitlendiğinde ise optimum nokta bulunacak. \n",
    "Bu denklemi λ’ya göre çözdüğümüzde aşağıdaki eşitlik elde edilmektedir. \n",
    "\n",
    "+ λ= (a(p1−p2)/[2C[Var(p1)+Var(p2)−2Cov(p1,p2)]])+((Var(p2)−Cov(p1,p2))/[Var(p1)+Var(p2)−2Cov(p1,p2)])\n",
    "\n",
    "Bir kısıtımız var ve bu kısıt λi = 1'dir. Bu yüzden Lagrange çarpanları ile çözülüyor. Sonuç olarak aşağıdaki denkleme evriliyor eşitlik.\n",
    "\n",
    "+ ∑ λl*Cov(pl,pj)+apj/2C = λ\n",
    "\n",
    "Yani her satıcı için bir denklem çıkıyor.\n",
    "\n",
    "Lagrange çarpanları: Çok değişkenli fonksiyonların minimum ve maksimum noktalarını bulmaya yarar. \n",
    "\n",
    "+ Cov⋅L=λ1−2CaP\n",
    "\n",
    "- Cov = kovaryans matrisi (fiyatların birlikte nasıl değiştiğini gösteren kare matris).\n",
    "- L = (𝜆1,𝜆2,…,𝜆𝑛)T  (oranlar sütun vektörü).\n",
    "- P = (𝑝1,𝑝2,…,𝑝𝑛)T (fiyatların ortalama değerleri).\n",
    "- 1 = (1,1,1,…,1)^T (birlerden oluşan vektör)."
   ]
  },
  {
   "cell_type": "markdown",
   "id": "21a16490-f2be-4474-8eec-cba454c281a1",
   "metadata": {},
   "source": [
    "Kovaryans matrisi (cov değişkeni ile adlandırılan) elde edildi. Price değerleri P vektörü ile gösteridi. λ vektörüde λ olarak tanımlandı. Lagrange opratörü olan λ ise u olarak temsil edildi. Bu kısım diğer diğer λ ile karıştırılmamalıdır. λ vektörü satıcıların ağırlıklarını vermektedir. \n",
    "\n",
    "f => a.C.λ.(P^T) + 2.(C^2).(λ^T).cov.λ\n",
    "g => (1^T).λ = 1\n",
    "\n",
    "Bu eşitlikte g fonsksiyonu sıfıra eşitlenip aşağıdaki lagrange eşitliği yazılırsa sonuç aşağıdaki gibi olur. Lagrange fonksiyonu L ile gösterildi. L fonsiyonunun türevi alındığında ve sıfıra eşitlendiğinde max ya da minimum noktalar bulunacaktır. Cov matrisinin tersi cov- olarak gösterildi. \n",
    "\n",
    "1. L = a.C.λ.(P^T) + 2.(C^2).(λ^T).cov.λ - u.((1^T).λ-1) (Genel matrisli denklem)\n",
    "\n",
    "2. dL/dλ = a.C.(P^T) + 2.(C^2).cov.λ - 1.u  (Lagrange fonksiyonunun türevi alındı)\n",
    "\n",
    "3. λ     = [ [ 1.u - a.C.(P^T) ] / 2.(C^2) ] . cov-  (dL 0'a eşitlenip λ eşitliği elde edildi.)\n",
    "\n",
    "4. λ     = cov- . ((λ* .1) - a.P/2C)   (u skaler bir değer olduğu için u/2.(C^2) için λ* değişkeni kullanıldı.\n",
    "\n",
    "5. (1^T).λ = 1 => (1^T) . cov- . ((λ* .1) - a.P/2C) (kısıt denkleminde λ yerine konuldu)\n",
    "\n",
    "6. λ*    = [ 1(scaler) + (1^T).(cov-).(P).a/2C ] / [ (1^T).(cov-).(1) ]\n",
    "\n",
    "\n",
    "\n",
    "\n",
    "\n"
   ]
  },
  {
   "cell_type": "code",
   "execution_count": null,
   "id": "04b5127d-ded1-4d29-8e3f-fb8dac0b7e3a",
   "metadata": {},
   "outputs": [],
   "source": []
  },
  {
   "cell_type": "code",
   "execution_count": null,
   "id": "d7f9d6ba-b179-4b08-874b-4741efde2f60",
   "metadata": {},
   "outputs": [],
   "source": []
  }
 ],
 "metadata": {
  "kernelspec": {
   "display_name": "Python 3 (ipykernel)",
   "language": "python",
   "name": "python3"
  },
  "language_info": {
   "codemirror_mode": {
    "name": "ipython",
    "version": 3
   },
   "file_extension": ".py",
   "mimetype": "text/x-python",
   "name": "python",
   "nbconvert_exporter": "python",
   "pygments_lexer": "ipython3",
   "version": "3.13.5"
  }
 },
 "nbformat": 4,
 "nbformat_minor": 5
}
